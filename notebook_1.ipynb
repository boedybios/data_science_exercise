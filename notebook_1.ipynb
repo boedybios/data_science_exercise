{
 "cells": [
  {
   "cell_type": "code",
   "execution_count": 1,
   "id": "4f2b4166-e39a-46ae-9a3b-eaa8a5bc6d1a",
   "metadata": {},
   "outputs": [
    {
     "name": "stdout",
     "output_type": "stream",
     "text": [
      "hello world\n",
      "hello world\n",
      "hello world\n",
      "hello world\n",
      "hello world\n"
     ]
    }
   ],
   "source": [
    "for _ in range(5):\n",
    "    print(\"hello world\")"
   ]
  }
 ],
 "metadata": {
  "kernelspec": {
   "display_name": "Python 3 (ipykernel)",
   "language": "python",
   "name": "python3"
  }
 },
 "nbformat": 4,
 "nbformat_minor": 5
}
